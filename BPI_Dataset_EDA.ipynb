{
  "nbformat": 4,
  "nbformat_minor": 0,
  "metadata": {
    "colab": {
      "provenance": [],
      "authorship_tag": "ABX9TyO5oO2EFr6yglXmAirAJU7C",
      "include_colab_link": true
    },
    "kernelspec": {
      "name": "python3",
      "display_name": "Python 3"
    },
    "language_info": {
      "name": "python"
    }
  },
  "cells": [
    {
      "cell_type": "markdown",
      "metadata": {
        "id": "view-in-github",
        "colab_type": "text"
      },
      "source": [
        "<a href=\"https://colab.research.google.com/github/machiwao/bpi_msme_financial_lifeline/blob/main/BPI_Dataset_EDA.ipynb\" target=\"_parent\"><img src=\"https://colab.research.google.com/assets/colab-badge.svg\" alt=\"Open In Colab\"/></a>"
      ]
    },
    {
      "cell_type": "markdown",
      "source": [
        "# Financial Lifeline: Visualizing MSME Struggles and Pathways to Growth\n",
        "BPI Data Wave 2024 - Data Visualization Track by Bobby's Armie"
      ],
      "metadata": {
        "id": "uRSFMUWzZflV"
      }
    },
    {
      "cell_type": "markdown",
      "source": [
        "## Data Loading"
      ],
      "metadata": {
        "id": "otmVzxCJZqhC"
      }
    },
    {
      "cell_type": "code",
      "execution_count": null,
      "metadata": {
        "id": "LVnDmT0QZcx6"
      },
      "outputs": [],
      "source": []
    },
    {
      "cell_type": "markdown",
      "source": [
        "## Data Cleaning and Preprocessing"
      ],
      "metadata": {
        "id": "rnwiUdKWZtfD"
      }
    },
    {
      "cell_type": "code",
      "source": [],
      "metadata": {
        "id": "n71SWmWXZwoD"
      },
      "execution_count": null,
      "outputs": []
    },
    {
      "cell_type": "markdown",
      "source": [
        "## Exploratory Data Analysis (EDA)"
      ],
      "metadata": {
        "id": "t6986oPrZxBX"
      }
    },
    {
      "cell_type": "code",
      "source": [],
      "metadata": {
        "id": "eNutk_U-Zy-d"
      },
      "execution_count": null,
      "outputs": []
    }
  ]
}