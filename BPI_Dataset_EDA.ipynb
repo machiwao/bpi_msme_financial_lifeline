{
  "nbformat": 4,
  "nbformat_minor": 0,
  "metadata": {
    "colab": {
      "provenance": [],
      "authorship_tag": "ABX9TyNBTNl/J+j+7RfcpyXpxH4G",
      "include_colab_link": true
    },
    "kernelspec": {
      "name": "python3",
      "display_name": "Python 3"
    },
    "language_info": {
      "name": "python"
    }
  },
  "cells": [
    {
      "cell_type": "markdown",
      "metadata": {
        "id": "view-in-github",
        "colab_type": "text"
      },
      "source": [
        "<a href=\"https://colab.research.google.com/github/machiwao/bpi_msme_financial_lifeline/blob/main/BPI_Dataset_EDA.ipynb\" target=\"_parent\"><img src=\"https://colab.research.google.com/assets/colab-badge.svg\" alt=\"Open In Colab\"/></a>"
      ]
    },
    {
      "cell_type": "markdown",
      "source": [
        "# Financial Lifeline: Visualizing MSME Struggles and Pathways to Growth\n",
        "BPI Data Wave 2024 - Data Visualization Track by Bobby's Armie"
      ],
      "metadata": {
        "id": "uRSFMUWzZflV"
      }
    },
    {
      "cell_type": "code",
      "source": [
        "import pandas as pd\n",
        "import numpy as np\n",
        "import matplotlib.pyplot as plt\n",
        "import seaborn as sns"
      ],
      "metadata": {
        "id": "rs1zUPTOgZ8W"
      },
      "execution_count": 43,
      "outputs": []
    },
    {
      "cell_type": "code",
      "source": [
        "ADB_FINAL = 'https://github.com/machiwao/bpi_msme_financial_lifeline/raw/refs/heads/main/dataset/ADB_FINAL_Q42023_Q12024.parquet'\n",
        "BIZKOCONSO = 'https://github.com/machiwao/bpi_msme_financial_lifeline/raw/refs/heads/main/dataset/BIZKOCONSO_Q42023_Q12024.parquet'\n",
        "BPIAPP = 'https://github.com/machiwao/bpi_msme_financial_lifeline/raw/refs/heads/main/dataset/BPIAPP_Q42023_Q12024_V2.parquet'\n",
        "CCCONSO = 'https://github.com/machiwao/bpi_msme_financial_lifeline/raw/refs/heads/main/dataset/CCCONSO_Q42023_Q12024.parquet'\n",
        "CCTRANSACTIONS = 'https://github.com/machiwao/bpi_msme_financial_lifeline/raw/refs/heads/main/dataset/CCTRANSACTIONS_Q42023_Q12024.parquet'\n",
        "CDNA = 'https://github.com/machiwao/bpi_msme_financial_lifeline/raw/refs/heads/main/dataset/CDNA_Q42023_Q12024.parquet'\n",
        "DEBITPOS = 'https://github.com/machiwao/bpi_msme_financial_lifeline/raw/refs/heads/main/dataset/DEBITPOS_Q42023_Q12024.parquet'\n",
        "IBFT_INCOMING = 'https://github.com/machiwao/bpi_msme_financial_lifeline/raw/refs/heads/main/dataset/IBFT_INCOMING_Q42023_Q12024.parquet'\n",
        "IBFT_OUTGOING = 'https://github.com/machiwao/bpi_msme_financial_lifeline/raw/refs/heads/main/dataset/IBFT_OUTGOING_Q42023_Q12024.parquet'\n",
        "LOAN = 'https://github.com/machiwao/bpi_msme_financial_lifeline/raw/refs/heads/main/dataset/LOAN_Q42023_Q12024.parquet'\n",
        "PRODUCTS = 'https://github.com/machiwao/bpi_msme_financial_lifeline/raw/refs/heads/main/dataset/PRODUCTS_Q42023_Q12024.parquet'\n",
        "SEGMENTS = 'https://github.com/machiwao/bpi_msme_financial_lifeline/raw/refs/heads/main/dataset/SEGMENTS_Q42023_Q12024.parquet'"
      ],
      "metadata": {
        "id": "hE5PsxGzl56E"
      },
      "execution_count": 44,
      "outputs": []
    },
    {
      "cell_type": "markdown",
      "source": [
        "## Data Loading"
      ],
      "metadata": {
        "id": "otmVzxCJZqhC"
      }
    },
    {
      "cell_type": "code",
      "execution_count": 45,
      "metadata": {
        "id": "LVnDmT0QZcx6"
      },
      "outputs": [],
      "source": [
        "adb_df = pd.read_parquet(ADB_FINAL)\n",
        "bizko_df = pd.read_parquet(BIZKOCONSO)\n",
        "bpi_df = pd.read_parquet(BPIAPP)\n",
        "ccconso_df = pd.read_parquet(CCCONSO)\n",
        "cc_trans_df = pd.read_parquet(CCTRANSACTIONS)\n",
        "cdna_df = pd.read_parquet(CDNA)\n",
        "debitpos_df = pd.read_parquet(DEBITPOS)\n",
        "ibft_incoming_df = pd.read_parquet(IBFT_INCOMING)\n",
        "ibft_outgoing_df = pd.read_parquet(IBFT_OUTGOING)\n",
        "loan_df = pd.read_parquet(LOAN)\n",
        "products_df = pd.read_parquet(PRODUCTS)\n",
        "segments_df = pd.read_parquet(SEGMENTS)"
      ]
    },
    {
      "cell_type": "markdown",
      "source": [
        "## Data Cleaning and Preprocessing"
      ],
      "metadata": {
        "id": "rnwiUdKWZtfD"
      }
    },
    {
      "cell_type": "code",
      "source": [],
      "metadata": {
        "id": "bC-jCaqsIXfh"
      },
      "execution_count": 45,
      "outputs": []
    },
    {
      "cell_type": "markdown",
      "source": [
        "## Exploratory Data Analysis (EDA)"
      ],
      "metadata": {
        "id": "t6986oPrZxBX"
      }
    },
    {
      "cell_type": "code",
      "source": [
        "'''\n",
        "1 Channel, Customer_Location, Loan Status, Digital Indicator\n",
        "2 Loan Behavior, Loan Status, Loan Amount, Customer Location\n",
        "3 Loan Amount, Loan Type, Auto Loan Inidicator, Principal Loan Amount, Customer\n",
        "Segment, Transaction Amount\n",
        "4 Loan Status, Customer Location, Loan Type, SEC\n",
        "'''"
      ],
      "metadata": {
        "id": "3nTvC0kA0YYH",
        "outputId": "5c684817-75e3-4a78-c732-a23422fa609a",
        "colab": {
          "base_uri": "https://localhost:8080/",
          "height": 53
        }
      },
      "execution_count": 46,
      "outputs": [
        {
          "output_type": "execute_result",
          "data": {
            "text/plain": [
              "'\\n1 Channel, Customer_Location, Loan Status, Digital Indicator\\n2 Loan Behavior, Loan Status, Loan Amount, Customer Location\\n3 Loan Amount, Loan Type, Auto Loan Inidicator, Principal Loan Amount, Customer\\nSegment, Transaction Amount\\n4 Loan Status, Customer Location, Loan Type, SEC\\n'"
            ],
            "application/vnd.google.colaboratory.intrinsic+json": {
              "type": "string"
            }
          },
          "metadata": {},
          "execution_count": 46
        }
      ]
    },
    {
      "cell_type": "markdown",
      "source": [
        "## 1. Financial Resilience: MSMEs and Their Loan Behavior During Economic Crises"
      ],
      "metadata": {
        "id": "KYWkzS3sy07J"
      }
    },
    {
      "cell_type": "code",
      "source": [],
      "metadata": {
        "id": "qZpB0JWHy8WV"
      },
      "execution_count": 46,
      "outputs": []
    },
    {
      "cell_type": "markdown",
      "source": [
        "## 2. Highlighting MSME Financial Struggles in Accessing Loans\n",
        "\n",
        "Loan Behavior, Loan Status, Loan Amount, Customer Location"
      ],
      "metadata": {
        "id": "7EVIJKcry97u"
      }
    },
    {
      "cell_type": "code",
      "source": [
        "loan_df.info()"
      ],
      "metadata": {
        "id": "I6FZsmg0zNz6",
        "outputId": "a0dd095c-48f9-49e4-8a9a-9b3547373d1e",
        "colab": {
          "base_uri": "https://localhost:8080/"
        }
      },
      "execution_count": 47,
      "outputs": [
        {
          "output_type": "stream",
          "name": "stdout",
          "text": [
            "<class 'pandas.core.frame.DataFrame'>\n",
            "RangeIndex: 35718 entries, 0 to 35717\n",
            "Data columns (total 10 columns):\n",
            " #   Column                 Non-Null Count  Dtype         \n",
            "---  ------                 --------------  -----         \n",
            " 0   CUSTOMER_ID            35718 non-null  float64       \n",
            " 1   LOAN_ACCOUNT_ID        35718 non-null  float64       \n",
            " 2   LOAN_STATUS            35718 non-null  object        \n",
            " 3   LOAN_BEHAVIOR          35718 non-null  object        \n",
            " 4   LOAN_TYPE              35718 non-null  object        \n",
            " 5   LOAN_AMOUNT            35718 non-null  float64       \n",
            " 6   PRINCIPAL_LOAN_AMOUNT  35718 non-null  float64       \n",
            " 7   INTEREST_EARNED        35718 non-null  float64       \n",
            " 8   LOAN_START_DATE        35718 non-null  datetime64[ms]\n",
            " 9   MATURITY_DATE          35718 non-null  datetime64[ms]\n",
            "dtypes: datetime64[ms](2), float64(5), object(3)\n",
            "memory usage: 2.7+ MB\n"
          ]
        }
      ]
    },
    {
      "cell_type": "code",
      "source": [
        "cdna_df.info()"
      ],
      "metadata": {
        "id": "enFLa8v3F_R3",
        "outputId": "9d48b3e2-6134-4528-bfca-89d87613809a",
        "colab": {
          "base_uri": "https://localhost:8080/"
        }
      },
      "execution_count": 48,
      "outputs": [
        {
          "output_type": "stream",
          "name": "stdout",
          "text": [
            "<class 'pandas.core.frame.DataFrame'>\n",
            "RangeIndex: 92204 entries, 0 to 92203\n",
            "Data columns (total 18 columns):\n",
            " #   Column                       Non-Null Count  Dtype  \n",
            "---  ------                       --------------  -----  \n",
            " 0   CUSTOMER_ID                  92204 non-null  float64\n",
            " 1   GENDER                       92204 non-null  object \n",
            " 2   AGE                          89725 non-null  float64\n",
            " 3   MARITAL_STATUS               92204 non-null  object \n",
            " 4   EDUCATION                    92204 non-null  object \n",
            " 5   BANK_TENURE                  89928 non-null  float64\n",
            " 6   CUSTOMER_LOCATION            92204 non-null  object \n",
            " 7   DIGITAL_INDICATOR            92204 non-null  object \n",
            " 8   SEC                          92204 non-null  object \n",
            " 9   HOME_OWNER_INDICATOR         92204 non-null  object \n",
            " 10  CAR_OWNER_INDICATOR          92204 non-null  object \n",
            " 11  MONTHLY_INCOME               91309 non-null  float64\n",
            " 12  INCOME_SOURCE                92204 non-null  object \n",
            " 13  ENVIRONMENTAL_AFF_INDICATOR  92204 non-null  object \n",
            " 14  HUMANITARIAN_AFF_INDICATOR   92204 non-null  object \n",
            " 15  OF_INDICATOR                 92204 non-null  object \n",
            " 16  RETIREES_INDICATOR           92204 non-null  object \n",
            " 17  FILCHI_INDICATOR             92204 non-null  object \n",
            "dtypes: float64(4), object(14)\n",
            "memory usage: 12.7+ MB\n"
          ]
        }
      ]
    },
    {
      "cell_type": "code",
      "source": [
        "df = loan_df.merge(cdna_df, on='CUSTOMER_ID', how='left')"
      ],
      "metadata": {
        "id": "7gtxEtlJGBgQ"
      },
      "execution_count": 49,
      "outputs": []
    },
    {
      "cell_type": "code",
      "source": [
        "df.info()"
      ],
      "metadata": {
        "id": "iwSumUrCG3w9",
        "outputId": "930fcf6a-db63-4938-fe5d-60f3be0cd7f9",
        "colab": {
          "base_uri": "https://localhost:8080/"
        }
      },
      "execution_count": 50,
      "outputs": [
        {
          "output_type": "stream",
          "name": "stdout",
          "text": [
            "<class 'pandas.core.frame.DataFrame'>\n",
            "RangeIndex: 35718 entries, 0 to 35717\n",
            "Data columns (total 27 columns):\n",
            " #   Column                       Non-Null Count  Dtype         \n",
            "---  ------                       --------------  -----         \n",
            " 0   CUSTOMER_ID                  35718 non-null  float64       \n",
            " 1   LOAN_ACCOUNT_ID              35718 non-null  float64       \n",
            " 2   LOAN_STATUS                  35718 non-null  object        \n",
            " 3   LOAN_BEHAVIOR                35718 non-null  object        \n",
            " 4   LOAN_TYPE                    35718 non-null  object        \n",
            " 5   LOAN_AMOUNT                  35718 non-null  float64       \n",
            " 6   PRINCIPAL_LOAN_AMOUNT        35718 non-null  float64       \n",
            " 7   INTEREST_EARNED              35718 non-null  float64       \n",
            " 8   LOAN_START_DATE              35718 non-null  datetime64[ms]\n",
            " 9   MATURITY_DATE                35718 non-null  datetime64[ms]\n",
            " 10  GENDER                       33728 non-null  object        \n",
            " 11  AGE                          33653 non-null  float64       \n",
            " 12  MARITAL_STATUS               33728 non-null  object        \n",
            " 13  EDUCATION                    33728 non-null  object        \n",
            " 14  BANK_TENURE                  33701 non-null  float64       \n",
            " 15  CUSTOMER_LOCATION            33728 non-null  object        \n",
            " 16  DIGITAL_INDICATOR            33728 non-null  object        \n",
            " 17  SEC                          33728 non-null  object        \n",
            " 18  HOME_OWNER_INDICATOR         33728 non-null  object        \n",
            " 19  CAR_OWNER_INDICATOR          33728 non-null  object        \n",
            " 20  MONTHLY_INCOME               33721 non-null  float64       \n",
            " 21  INCOME_SOURCE                33728 non-null  object        \n",
            " 22  ENVIRONMENTAL_AFF_INDICATOR  33728 non-null  object        \n",
            " 23  HUMANITARIAN_AFF_INDICATOR   33728 non-null  object        \n",
            " 24  OF_INDICATOR                 33728 non-null  object        \n",
            " 25  RETIREES_INDICATOR           33728 non-null  object        \n",
            " 26  FILCHI_INDICATOR             33728 non-null  object        \n",
            "dtypes: datetime64[ms](2), float64(8), object(17)\n",
            "memory usage: 7.4+ MB\n"
          ]
        }
      ]
    },
    {
      "cell_type": "code",
      "source": [
        "df.isna().sum()"
      ],
      "metadata": {
        "id": "4x4oE5s5H-WC",
        "outputId": "222c0cdc-8c62-48e3-a272-95cc0a93693b",
        "colab": {
          "base_uri": "https://localhost:8080/",
          "height": 930
        }
      },
      "execution_count": 51,
      "outputs": [
        {
          "output_type": "execute_result",
          "data": {
            "text/plain": [
              "CUSTOMER_ID                       0\n",
              "LOAN_ACCOUNT_ID                   0\n",
              "LOAN_STATUS                       0\n",
              "LOAN_BEHAVIOR                     0\n",
              "LOAN_TYPE                         0\n",
              "LOAN_AMOUNT                       0\n",
              "PRINCIPAL_LOAN_AMOUNT             0\n",
              "INTEREST_EARNED                   0\n",
              "LOAN_START_DATE                   0\n",
              "MATURITY_DATE                     0\n",
              "GENDER                         1990\n",
              "AGE                            2065\n",
              "MARITAL_STATUS                 1990\n",
              "EDUCATION                      1990\n",
              "BANK_TENURE                    2017\n",
              "CUSTOMER_LOCATION              1990\n",
              "DIGITAL_INDICATOR              1990\n",
              "SEC                            1990\n",
              "HOME_OWNER_INDICATOR           1990\n",
              "CAR_OWNER_INDICATOR            1990\n",
              "MONTHLY_INCOME                 1997\n",
              "INCOME_SOURCE                  1990\n",
              "ENVIRONMENTAL_AFF_INDICATOR    1990\n",
              "HUMANITARIAN_AFF_INDICATOR     1990\n",
              "OF_INDICATOR                   1990\n",
              "RETIREES_INDICATOR             1990\n",
              "FILCHI_INDICATOR               1990\n",
              "dtype: int64"
            ],
            "text/html": [
              "<div>\n",
              "<style scoped>\n",
              "    .dataframe tbody tr th:only-of-type {\n",
              "        vertical-align: middle;\n",
              "    }\n",
              "\n",
              "    .dataframe tbody tr th {\n",
              "        vertical-align: top;\n",
              "    }\n",
              "\n",
              "    .dataframe thead th {\n",
              "        text-align: right;\n",
              "    }\n",
              "</style>\n",
              "<table border=\"1\" class=\"dataframe\">\n",
              "  <thead>\n",
              "    <tr style=\"text-align: right;\">\n",
              "      <th></th>\n",
              "      <th>0</th>\n",
              "    </tr>\n",
              "  </thead>\n",
              "  <tbody>\n",
              "    <tr>\n",
              "      <th>CUSTOMER_ID</th>\n",
              "      <td>0</td>\n",
              "    </tr>\n",
              "    <tr>\n",
              "      <th>LOAN_ACCOUNT_ID</th>\n",
              "      <td>0</td>\n",
              "    </tr>\n",
              "    <tr>\n",
              "      <th>LOAN_STATUS</th>\n",
              "      <td>0</td>\n",
              "    </tr>\n",
              "    <tr>\n",
              "      <th>LOAN_BEHAVIOR</th>\n",
              "      <td>0</td>\n",
              "    </tr>\n",
              "    <tr>\n",
              "      <th>LOAN_TYPE</th>\n",
              "      <td>0</td>\n",
              "    </tr>\n",
              "    <tr>\n",
              "      <th>LOAN_AMOUNT</th>\n",
              "      <td>0</td>\n",
              "    </tr>\n",
              "    <tr>\n",
              "      <th>PRINCIPAL_LOAN_AMOUNT</th>\n",
              "      <td>0</td>\n",
              "    </tr>\n",
              "    <tr>\n",
              "      <th>INTEREST_EARNED</th>\n",
              "      <td>0</td>\n",
              "    </tr>\n",
              "    <tr>\n",
              "      <th>LOAN_START_DATE</th>\n",
              "      <td>0</td>\n",
              "    </tr>\n",
              "    <tr>\n",
              "      <th>MATURITY_DATE</th>\n",
              "      <td>0</td>\n",
              "    </tr>\n",
              "    <tr>\n",
              "      <th>GENDER</th>\n",
              "      <td>1990</td>\n",
              "    </tr>\n",
              "    <tr>\n",
              "      <th>AGE</th>\n",
              "      <td>2065</td>\n",
              "    </tr>\n",
              "    <tr>\n",
              "      <th>MARITAL_STATUS</th>\n",
              "      <td>1990</td>\n",
              "    </tr>\n",
              "    <tr>\n",
              "      <th>EDUCATION</th>\n",
              "      <td>1990</td>\n",
              "    </tr>\n",
              "    <tr>\n",
              "      <th>BANK_TENURE</th>\n",
              "      <td>2017</td>\n",
              "    </tr>\n",
              "    <tr>\n",
              "      <th>CUSTOMER_LOCATION</th>\n",
              "      <td>1990</td>\n",
              "    </tr>\n",
              "    <tr>\n",
              "      <th>DIGITAL_INDICATOR</th>\n",
              "      <td>1990</td>\n",
              "    </tr>\n",
              "    <tr>\n",
              "      <th>SEC</th>\n",
              "      <td>1990</td>\n",
              "    </tr>\n",
              "    <tr>\n",
              "      <th>HOME_OWNER_INDICATOR</th>\n",
              "      <td>1990</td>\n",
              "    </tr>\n",
              "    <tr>\n",
              "      <th>CAR_OWNER_INDICATOR</th>\n",
              "      <td>1990</td>\n",
              "    </tr>\n",
              "    <tr>\n",
              "      <th>MONTHLY_INCOME</th>\n",
              "      <td>1997</td>\n",
              "    </tr>\n",
              "    <tr>\n",
              "      <th>INCOME_SOURCE</th>\n",
              "      <td>1990</td>\n",
              "    </tr>\n",
              "    <tr>\n",
              "      <th>ENVIRONMENTAL_AFF_INDICATOR</th>\n",
              "      <td>1990</td>\n",
              "    </tr>\n",
              "    <tr>\n",
              "      <th>HUMANITARIAN_AFF_INDICATOR</th>\n",
              "      <td>1990</td>\n",
              "    </tr>\n",
              "    <tr>\n",
              "      <th>OF_INDICATOR</th>\n",
              "      <td>1990</td>\n",
              "    </tr>\n",
              "    <tr>\n",
              "      <th>RETIREES_INDICATOR</th>\n",
              "      <td>1990</td>\n",
              "    </tr>\n",
              "    <tr>\n",
              "      <th>FILCHI_INDICATOR</th>\n",
              "      <td>1990</td>\n",
              "    </tr>\n",
              "  </tbody>\n",
              "</table>\n",
              "</div><br><label><b>dtype:</b> int64</label>"
            ]
          },
          "metadata": {},
          "execution_count": 51
        }
      ]
    },
    {
      "cell_type": "code",
      "source": [
        "df.dropna(inplace=True)"
      ],
      "metadata": {
        "id": "-fnj0fV_JegP"
      },
      "execution_count": 52,
      "outputs": []
    },
    {
      "cell_type": "code",
      "source": [
        "df['CUSTOMER_LOCATION'].value_counts()"
      ],
      "metadata": {
        "id": "WoAZyLuZJTvE",
        "outputId": "9664be4b-5fdf-4315-8ddf-8f494fb0759b",
        "colab": {
          "base_uri": "https://localhost:8080/",
          "height": 648
        }
      },
      "execution_count": 53,
      "outputs": [
        {
          "output_type": "execute_result",
          "data": {
            "text/plain": [
              "CUSTOMER_LOCATION\n",
              "NATIONAL CAPITAL REGION                   11299\n",
              "REGION IV-A (CALABARZON)                   4884\n",
              "REGION III (CENTRAL LUZON)                 3177\n",
              "NO_DATA                                    2530\n",
              "REGION VI (WESTERN VISAYAS)                2106\n",
              "REGION VII (CENTRAL VISAYAS)               2070\n",
              "REGION XI (DAVAO REGION)                   1342\n",
              "REGION X (NORTHERN MINDANAO)               1258\n",
              "REGION I (ILOCOS REGION)                   1025\n",
              "REGION XII (SOCCSKSARGEN)                   948\n",
              "REGION V (BICOL REGION)                     702\n",
              "REGION II (CAGAYAN VALLEY)                  599\n",
              "CORDILLERA ADMINISTRATIVE REGION (CAR)      547\n",
              "REGION IX (ZAMBOANGA PENINSULA)             428\n",
              "REGION VIII (EASTERN VISAYAS)               287\n",
              "MIMAROPA REGION                             233\n",
              "REGION XIII (CARAGA)                        218\n",
              "Name: count, dtype: int64"
            ],
            "text/html": [
              "<div>\n",
              "<style scoped>\n",
              "    .dataframe tbody tr th:only-of-type {\n",
              "        vertical-align: middle;\n",
              "    }\n",
              "\n",
              "    .dataframe tbody tr th {\n",
              "        vertical-align: top;\n",
              "    }\n",
              "\n",
              "    .dataframe thead th {\n",
              "        text-align: right;\n",
              "    }\n",
              "</style>\n",
              "<table border=\"1\" class=\"dataframe\">\n",
              "  <thead>\n",
              "    <tr style=\"text-align: right;\">\n",
              "      <th></th>\n",
              "      <th>count</th>\n",
              "    </tr>\n",
              "    <tr>\n",
              "      <th>CUSTOMER_LOCATION</th>\n",
              "      <th></th>\n",
              "    </tr>\n",
              "  </thead>\n",
              "  <tbody>\n",
              "    <tr>\n",
              "      <th>NATIONAL CAPITAL REGION</th>\n",
              "      <td>11299</td>\n",
              "    </tr>\n",
              "    <tr>\n",
              "      <th>REGION IV-A (CALABARZON)</th>\n",
              "      <td>4884</td>\n",
              "    </tr>\n",
              "    <tr>\n",
              "      <th>REGION III (CENTRAL LUZON)</th>\n",
              "      <td>3177</td>\n",
              "    </tr>\n",
              "    <tr>\n",
              "      <th>NO_DATA</th>\n",
              "      <td>2530</td>\n",
              "    </tr>\n",
              "    <tr>\n",
              "      <th>REGION VI (WESTERN VISAYAS)</th>\n",
              "      <td>2106</td>\n",
              "    </tr>\n",
              "    <tr>\n",
              "      <th>REGION VII (CENTRAL VISAYAS)</th>\n",
              "      <td>2070</td>\n",
              "    </tr>\n",
              "    <tr>\n",
              "      <th>REGION XI (DAVAO REGION)</th>\n",
              "      <td>1342</td>\n",
              "    </tr>\n",
              "    <tr>\n",
              "      <th>REGION X (NORTHERN MINDANAO)</th>\n",
              "      <td>1258</td>\n",
              "    </tr>\n",
              "    <tr>\n",
              "      <th>REGION I (ILOCOS REGION)</th>\n",
              "      <td>1025</td>\n",
              "    </tr>\n",
              "    <tr>\n",
              "      <th>REGION XII (SOCCSKSARGEN)</th>\n",
              "      <td>948</td>\n",
              "    </tr>\n",
              "    <tr>\n",
              "      <th>REGION V (BICOL REGION)</th>\n",
              "      <td>702</td>\n",
              "    </tr>\n",
              "    <tr>\n",
              "      <th>REGION II (CAGAYAN VALLEY)</th>\n",
              "      <td>599</td>\n",
              "    </tr>\n",
              "    <tr>\n",
              "      <th>CORDILLERA ADMINISTRATIVE REGION (CAR)</th>\n",
              "      <td>547</td>\n",
              "    </tr>\n",
              "    <tr>\n",
              "      <th>REGION IX (ZAMBOANGA PENINSULA)</th>\n",
              "      <td>428</td>\n",
              "    </tr>\n",
              "    <tr>\n",
              "      <th>REGION VIII (EASTERN VISAYAS)</th>\n",
              "      <td>287</td>\n",
              "    </tr>\n",
              "    <tr>\n",
              "      <th>MIMAROPA REGION</th>\n",
              "      <td>233</td>\n",
              "    </tr>\n",
              "    <tr>\n",
              "      <th>REGION XIII (CARAGA)</th>\n",
              "      <td>218</td>\n",
              "    </tr>\n",
              "  </tbody>\n",
              "</table>\n",
              "</div><br><label><b>dtype:</b> int64</label>"
            ]
          },
          "metadata": {},
          "execution_count": 53
        }
      ]
    },
    {
      "cell_type": "code",
      "source": [
        "df.groupby('CUSTOMER_LOCATION')['LOAN_STATUS'].value_counts()"
      ],
      "metadata": {
        "id": "Ob4uYBGhKJ6p",
        "outputId": "6fe42863-1bac-406b-efe2-fb0942baa65d",
        "colab": {
          "base_uri": "https://localhost:8080/",
          "height": 1000
        }
      },
      "execution_count": 54,
      "outputs": [
        {
          "output_type": "execute_result",
          "data": {
            "text/plain": [
              "CUSTOMER_LOCATION                       LOAN_STATUS\n",
              "CORDILLERA ADMINISTRATIVE REGION (CAR)  Active           541\n",
              "                                        Paid               6\n",
              "MIMAROPA REGION                         Active           233\n",
              "NATIONAL CAPITAL REGION                 Active         11114\n",
              "                                        Paid             185\n",
              "NO_DATA                                 Active          2381\n",
              "                                        Paid             149\n",
              "REGION I (ILOCOS REGION)                Active          1008\n",
              "                                        Paid              17\n",
              "REGION II (CAGAYAN VALLEY)              Active           593\n",
              "                                        Paid               6\n",
              "REGION III (CENTRAL LUZON)              Active          3170\n",
              "                                        Paid               7\n",
              "REGION IV-A (CALABARZON)                Active          4818\n",
              "                                        Paid              66\n",
              "REGION IX (ZAMBOANGA PENINSULA)         Active           420\n",
              "                                        Paid               8\n",
              "REGION V (BICOL REGION)                 Active           702\n",
              "REGION VI (WESTERN VISAYAS)             Active          2091\n",
              "                                        Paid              15\n",
              "REGION VII (CENTRAL VISAYAS)            Active          2058\n",
              "                                        Paid              12\n",
              "REGION VIII (EASTERN VISAYAS)           Active           281\n",
              "                                        Paid               6\n",
              "REGION X (NORTHERN MINDANAO)            Active          1234\n",
              "                                        Paid              24\n",
              "REGION XI (DAVAO REGION)                Active          1306\n",
              "                                        Paid              36\n",
              "REGION XII (SOCCSKSARGEN)               Active           948\n",
              "REGION XIII (CARAGA)                    Active           218\n",
              "Name: count, dtype: int64"
            ],
            "text/html": [
              "<div>\n",
              "<style scoped>\n",
              "    .dataframe tbody tr th:only-of-type {\n",
              "        vertical-align: middle;\n",
              "    }\n",
              "\n",
              "    .dataframe tbody tr th {\n",
              "        vertical-align: top;\n",
              "    }\n",
              "\n",
              "    .dataframe thead th {\n",
              "        text-align: right;\n",
              "    }\n",
              "</style>\n",
              "<table border=\"1\" class=\"dataframe\">\n",
              "  <thead>\n",
              "    <tr style=\"text-align: right;\">\n",
              "      <th></th>\n",
              "      <th></th>\n",
              "      <th>count</th>\n",
              "    </tr>\n",
              "    <tr>\n",
              "      <th>CUSTOMER_LOCATION</th>\n",
              "      <th>LOAN_STATUS</th>\n",
              "      <th></th>\n",
              "    </tr>\n",
              "  </thead>\n",
              "  <tbody>\n",
              "    <tr>\n",
              "      <th rowspan=\"2\" valign=\"top\">CORDILLERA ADMINISTRATIVE REGION (CAR)</th>\n",
              "      <th>Active</th>\n",
              "      <td>541</td>\n",
              "    </tr>\n",
              "    <tr>\n",
              "      <th>Paid</th>\n",
              "      <td>6</td>\n",
              "    </tr>\n",
              "    <tr>\n",
              "      <th>MIMAROPA REGION</th>\n",
              "      <th>Active</th>\n",
              "      <td>233</td>\n",
              "    </tr>\n",
              "    <tr>\n",
              "      <th rowspan=\"2\" valign=\"top\">NATIONAL CAPITAL REGION</th>\n",
              "      <th>Active</th>\n",
              "      <td>11114</td>\n",
              "    </tr>\n",
              "    <tr>\n",
              "      <th>Paid</th>\n",
              "      <td>185</td>\n",
              "    </tr>\n",
              "    <tr>\n",
              "      <th rowspan=\"2\" valign=\"top\">NO_DATA</th>\n",
              "      <th>Active</th>\n",
              "      <td>2381</td>\n",
              "    </tr>\n",
              "    <tr>\n",
              "      <th>Paid</th>\n",
              "      <td>149</td>\n",
              "    </tr>\n",
              "    <tr>\n",
              "      <th rowspan=\"2\" valign=\"top\">REGION I (ILOCOS REGION)</th>\n",
              "      <th>Active</th>\n",
              "      <td>1008</td>\n",
              "    </tr>\n",
              "    <tr>\n",
              "      <th>Paid</th>\n",
              "      <td>17</td>\n",
              "    </tr>\n",
              "    <tr>\n",
              "      <th rowspan=\"2\" valign=\"top\">REGION II (CAGAYAN VALLEY)</th>\n",
              "      <th>Active</th>\n",
              "      <td>593</td>\n",
              "    </tr>\n",
              "    <tr>\n",
              "      <th>Paid</th>\n",
              "      <td>6</td>\n",
              "    </tr>\n",
              "    <tr>\n",
              "      <th rowspan=\"2\" valign=\"top\">REGION III (CENTRAL LUZON)</th>\n",
              "      <th>Active</th>\n",
              "      <td>3170</td>\n",
              "    </tr>\n",
              "    <tr>\n",
              "      <th>Paid</th>\n",
              "      <td>7</td>\n",
              "    </tr>\n",
              "    <tr>\n",
              "      <th rowspan=\"2\" valign=\"top\">REGION IV-A (CALABARZON)</th>\n",
              "      <th>Active</th>\n",
              "      <td>4818</td>\n",
              "    </tr>\n",
              "    <tr>\n",
              "      <th>Paid</th>\n",
              "      <td>66</td>\n",
              "    </tr>\n",
              "    <tr>\n",
              "      <th rowspan=\"2\" valign=\"top\">REGION IX (ZAMBOANGA PENINSULA)</th>\n",
              "      <th>Active</th>\n",
              "      <td>420</td>\n",
              "    </tr>\n",
              "    <tr>\n",
              "      <th>Paid</th>\n",
              "      <td>8</td>\n",
              "    </tr>\n",
              "    <tr>\n",
              "      <th>REGION V (BICOL REGION)</th>\n",
              "      <th>Active</th>\n",
              "      <td>702</td>\n",
              "    </tr>\n",
              "    <tr>\n",
              "      <th rowspan=\"2\" valign=\"top\">REGION VI (WESTERN VISAYAS)</th>\n",
              "      <th>Active</th>\n",
              "      <td>2091</td>\n",
              "    </tr>\n",
              "    <tr>\n",
              "      <th>Paid</th>\n",
              "      <td>15</td>\n",
              "    </tr>\n",
              "    <tr>\n",
              "      <th rowspan=\"2\" valign=\"top\">REGION VII (CENTRAL VISAYAS)</th>\n",
              "      <th>Active</th>\n",
              "      <td>2058</td>\n",
              "    </tr>\n",
              "    <tr>\n",
              "      <th>Paid</th>\n",
              "      <td>12</td>\n",
              "    </tr>\n",
              "    <tr>\n",
              "      <th rowspan=\"2\" valign=\"top\">REGION VIII (EASTERN VISAYAS)</th>\n",
              "      <th>Active</th>\n",
              "      <td>281</td>\n",
              "    </tr>\n",
              "    <tr>\n",
              "      <th>Paid</th>\n",
              "      <td>6</td>\n",
              "    </tr>\n",
              "    <tr>\n",
              "      <th rowspan=\"2\" valign=\"top\">REGION X (NORTHERN MINDANAO)</th>\n",
              "      <th>Active</th>\n",
              "      <td>1234</td>\n",
              "    </tr>\n",
              "    <tr>\n",
              "      <th>Paid</th>\n",
              "      <td>24</td>\n",
              "    </tr>\n",
              "    <tr>\n",
              "      <th rowspan=\"2\" valign=\"top\">REGION XI (DAVAO REGION)</th>\n",
              "      <th>Active</th>\n",
              "      <td>1306</td>\n",
              "    </tr>\n",
              "    <tr>\n",
              "      <th>Paid</th>\n",
              "      <td>36</td>\n",
              "    </tr>\n",
              "    <tr>\n",
              "      <th>REGION XII (SOCCSKSARGEN)</th>\n",
              "      <th>Active</th>\n",
              "      <td>948</td>\n",
              "    </tr>\n",
              "    <tr>\n",
              "      <th>REGION XIII (CARAGA)</th>\n",
              "      <th>Active</th>\n",
              "      <td>218</td>\n",
              "    </tr>\n",
              "  </tbody>\n",
              "</table>\n",
              "</div><br><label><b>dtype:</b> int64</label>"
            ]
          },
          "metadata": {},
          "execution_count": 54
        }
      ]
    },
    {
      "cell_type": "markdown",
      "source": [
        "## 3. Visualizing MSME Growth Through Credit and Loans"
      ],
      "metadata": {
        "id": "OW-pMdnazOXr"
      }
    },
    {
      "cell_type": "code",
      "source": [
        "loan_df['CUSTOMER_ID'].value_counts()"
      ],
      "metadata": {
        "id": "W9Dr4ZWfzT3J",
        "outputId": "2e9ea6be-c2e2-4a7d-f8dc-6d8bdfa35494",
        "colab": {
          "base_uri": "https://localhost:8080/",
          "height": 489
        }
      },
      "execution_count": 61,
      "outputs": [
        {
          "output_type": "execute_result",
          "data": {
            "text/plain": [
              "CUSTOMER_ID\n",
              "6.816677e+07    102\n",
              "3.665707e+07     78\n",
              "1.110548e+08     59\n",
              "1.021774e+07     47\n",
              "3.236283e+07     46\n",
              "               ... \n",
              "1.341813e+07      1\n",
              "4.224702e+07      1\n",
              "1.099150e+08      1\n",
              "1.034550e+07      1\n",
              "5.796677e+07      1\n",
              "Name: count, Length: 5294, dtype: int64"
            ],
            "text/html": [
              "<div>\n",
              "<style scoped>\n",
              "    .dataframe tbody tr th:only-of-type {\n",
              "        vertical-align: middle;\n",
              "    }\n",
              "\n",
              "    .dataframe tbody tr th {\n",
              "        vertical-align: top;\n",
              "    }\n",
              "\n",
              "    .dataframe thead th {\n",
              "        text-align: right;\n",
              "    }\n",
              "</style>\n",
              "<table border=\"1\" class=\"dataframe\">\n",
              "  <thead>\n",
              "    <tr style=\"text-align: right;\">\n",
              "      <th></th>\n",
              "      <th>count</th>\n",
              "    </tr>\n",
              "    <tr>\n",
              "      <th>CUSTOMER_ID</th>\n",
              "      <th></th>\n",
              "    </tr>\n",
              "  </thead>\n",
              "  <tbody>\n",
              "    <tr>\n",
              "      <th>6.816677e+07</th>\n",
              "      <td>102</td>\n",
              "    </tr>\n",
              "    <tr>\n",
              "      <th>3.665707e+07</th>\n",
              "      <td>78</td>\n",
              "    </tr>\n",
              "    <tr>\n",
              "      <th>1.110548e+08</th>\n",
              "      <td>59</td>\n",
              "    </tr>\n",
              "    <tr>\n",
              "      <th>1.021774e+07</th>\n",
              "      <td>47</td>\n",
              "    </tr>\n",
              "    <tr>\n",
              "      <th>3.236283e+07</th>\n",
              "      <td>46</td>\n",
              "    </tr>\n",
              "    <tr>\n",
              "      <th>...</th>\n",
              "      <td>...</td>\n",
              "    </tr>\n",
              "    <tr>\n",
              "      <th>1.341813e+07</th>\n",
              "      <td>1</td>\n",
              "    </tr>\n",
              "    <tr>\n",
              "      <th>4.224702e+07</th>\n",
              "      <td>1</td>\n",
              "    </tr>\n",
              "    <tr>\n",
              "      <th>1.099150e+08</th>\n",
              "      <td>1</td>\n",
              "    </tr>\n",
              "    <tr>\n",
              "      <th>1.034550e+07</th>\n",
              "      <td>1</td>\n",
              "    </tr>\n",
              "    <tr>\n",
              "      <th>5.796677e+07</th>\n",
              "      <td>1</td>\n",
              "    </tr>\n",
              "  </tbody>\n",
              "</table>\n",
              "<p>5294 rows × 1 columns</p>\n",
              "</div><br><label><b>dtype:</b> int64</label>"
            ]
          },
          "metadata": {},
          "execution_count": 61
        }
      ]
    },
    {
      "cell_type": "code",
      "source": [],
      "metadata": {
        "id": "GMTYlBSEZ5eH"
      },
      "execution_count": null,
      "outputs": []
    },
    {
      "cell_type": "markdown",
      "source": [
        "## 4. Channels of Financial Access for MSMEs"
      ],
      "metadata": {
        "id": "U2a0mrSozUvO"
      }
    },
    {
      "cell_type": "code",
      "source": [],
      "metadata": {
        "id": "tCFY0mMazZwj"
      },
      "execution_count": null,
      "outputs": []
    }
  ]
}